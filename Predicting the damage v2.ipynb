{
 "cells": [
  {
   "cell_type": "code",
   "execution_count": 1,
   "metadata": {},
   "outputs": [
    {
     "name": "stderr",
     "output_type": "stream",
     "text": [
      "/usr/lib/python3.6/importlib/_bootstrap.py:219: RuntimeWarning: numpy.dtype size changed, may indicate binary incompatibility. Expected 96, got 88\n",
      "  return f(*args, **kwds)\n",
      "/usr/lib/python3.6/importlib/_bootstrap.py:219: RuntimeWarning: numpy.dtype size changed, may indicate binary incompatibility. Expected 96, got 88\n",
      "  return f(*args, **kwds)\n"
     ]
    }
   ],
   "source": [
    "import numpy as np\n",
    "import pandas as pd\n",
    "from sklearn.model_selection import train_test_split\n",
    "from sklearn.ensemble import RandomForestClassifier\n",
    "from sklearn.metrics import classification_report,f1_score\n",
    "import matplotlib.pyplot as plt\n",
    "import seaborn as sns\n",
    "import os.path\n",
    "\n",
    "%matplotlib inline\n",
    "\n",
    "sns.set(style=\"ticks\", color_codes=True)"
   ]
  },
  {
   "cell_type": "code",
   "execution_count": 2,
   "metadata": {},
   "outputs": [],
   "source": [
    "if  os.path.exists('Dataset/full_train.csv') and os.path.exists('Dataset/full_test.csv'):\n",
    "    \n",
    "    #check for the full train and test set\n",
    "    df_train = pd.read_csv('Dataset/full_train.csv')\n",
    "    df_test = pd.read_csv('Dataset/full_test.csv')\n",
    "else:\n",
    "    \n",
    "    # Load train and test data\n",
    "    df_train = pd.read_csv('Dataset/train.csv')\n",
    "    df_test = pd.read_csv('Dataset/test.csv')\n",
    "    df_struct = pd.read_csv('Dataset/Building_Structure.csv')\n",
    "    df_own = pd.read_csv('Dataset/Building_Ownership_Use.csv')\n",
    "\n",
    "    df_merge = pd.merge(df_struct,df_own,on=['building_id', 'district_id', 'vdcmun_id', 'ward_id'])\n",
    "    df_train = pd.merge(df_train,df_merge,on=['building_id', 'district_id', 'vdcmun_id'])\n",
    "    df_test  = pd.merge(df_test, df_merge, on =['building_id', 'district_id', 'vdcmun_id'])\n",
    "\n",
    "    del df_struct, df_own\n",
    "\n",
    "    df_train[\"has_repair_started\"].fillna(0.0,inplace=True)\n",
    "    df_test[\"has_repair_started\"].fillna(0.0,inplace=True)\n",
    "    df_train[\"count_families\"].fillna(1.0,inplace=True)\n",
    "\n",
    "    df_train.to_csv('Dataset/full_train.csv',index=False)\n",
    "    df_test.to_csv('Dataset/full_test.csv',index=False)\n"
   ]
  },
  {
   "cell_type": "code",
   "execution_count": 3,
   "metadata": {},
   "outputs": [],
   "source": [
    "def clean_land_surface_condition(raw):\n",
    "    if raw.lower() != 'flat':\n",
    "        return \"slope\"\n",
    "    else:\n",
    "        return raw.lower()\n",
    "\n",
    "def clean_plan_configuration(raw):\n",
    "    if raw.lower() != 'rectangular':\n",
    "        return \"others\"\n",
    "    else:\n",
    "        return raw.lower()\n",
    "\n",
    "def clean_position(raw):\n",
    "    if raw.lower() != 'not attached':\n",
    "        return \"attached\"\n",
    "    else:\n",
    "        return raw.lower()\n",
    "\n",
    "def clean_ground_floor_type(raw):\n",
    "    if 'mud' in raw.lower():\n",
    "        return 'mud'\n",
    "    else:\n",
    "        return 'hard_floor'\n",
    "\n",
    "def clean_area_assesed(raw):\n",
    "    if raw.lower() == 'exterior' or raw.lower() == 'interior':\n",
    "        return 'visible'\n",
    "    else:\n",
    "        return raw.lower()\n",
    "\n",
    "def clean_foundation_type(raw):\n",
    "    if 'mud' in raw.lower():\n",
    "        return 'mud'\n",
    "    elif 'bamboo' in raw.lower():\n",
    "        return 'wooden'\n",
    "    else:\n",
    "        return 'cemented'\n",
    "\n",
    "def clean_roof_type(raw):\n",
    "    if 'light roof' in raw.lower():\n",
    "        return 'light roof'\n",
    "    elif 'heavy roof' in raw.lower():\n",
    "        return 'heavy roof'\n",
    "    else:\n",
    "        return 'rcc'"
   ]
  },
  {
   "cell_type": "code",
   "execution_count": 4,
   "metadata": {},
   "outputs": [],
   "source": [
    "datasets = [df_train, df_test]\n",
    "\n",
    "for dataset in datasets:\n",
    "    \n",
    "    dataset.land_surface_condition = dataset.land_surface_condition.apply(clean_land_surface_condition)\n",
    "\n",
    "    dataset.plan_configuration = dataset.plan_configuration.apply(clean_plan_configuration)\n",
    "\n",
    "    dataset.position = dataset.position.apply(clean_position)\n",
    "\n",
    "    dataset.ground_floor_type = dataset.ground_floor_type.apply(clean_ground_floor_type)\n",
    "\n",
    "    dataset.area_assesed = dataset.area_assesed.apply(clean_area_assesed)\n",
    "\n",
    "    dataset.foundation_type = dataset.foundation_type.apply(clean_foundation_type)\n",
    "\n",
    "    dataset.roof_type = dataset.roof_type.apply(clean_roof_type)\n",
    "\n",
    "    dataset['isBuildingOld'] = (dataset.age_building > 30).astype('int')\n",
    "\n",
    "    dataset['isFloorRemoved'] = ((dataset['count_floors_pre_eq']-dataset['count_floors_post_eq']) > 0 ).astype('int')\n",
    "\n",
    "    dataset['isHeightChanged'] = ((dataset.height_ft_pre_eq - dataset.height_ft_post_eq) > 0 ).astype('int')"
   ]
  },
  {
   "cell_type": "code",
   "execution_count": 5,
   "metadata": {},
   "outputs": [],
   "source": [
    "cols_to_drop = ['has_geotechnical_risk_fault_crack', 'has_geotechnical_risk_flood',\n",
    "                'has_geotechnical_risk_land_settlement', 'has_geotechnical_risk_landslide',\n",
    "                'has_geotechnical_risk_liquefaction', 'has_geotechnical_risk_other', \n",
    "                'has_geotechnical_risk_rock_fall','has_secondary_use_agriculture',\n",
    "                'has_secondary_use_hotel', 'has_secondary_use_rental',\n",
    "                'has_secondary_use_institution', 'has_secondary_use_school',\n",
    "                'has_secondary_use_industry', 'has_secondary_use_health_post',\n",
    "                'has_secondary_use_gov_office', 'has_secondary_use_use_police',\n",
    "                'has_secondary_use_other','legal_ownership_status','age_building',\n",
    "                'count_floors_pre_eq','count_floors_post_eq','height_ft_pre_eq','height_ft_post_eq',\n",
    "                'has_superstructure_adobe_mud', 'has_superstructure_stone_flag', \n",
    "                'has_superstructure_cement_mortar_stone', 'has_superstructure_mud_mortar_brick', \n",
    "                'has_superstructure_cement_mortar_brick', 'has_superstructure_other',\n",
    "                'has_superstructure_bamboo', 'has_superstructure_rc_non_engineered',\n",
    "                'has_superstructure_rc_engineered']\n",
    "\n",
    "df_train.drop(columns=cols_to_drop,inplace=True,axis=1)\n",
    "df_test.drop(columns=cols_to_drop,inplace=True,axis=1)"
   ]
  },
  {
   "cell_type": "code",
   "execution_count": null,
   "metadata": {},
   "outputs": [],
   "source": [
    "for col in df_train.columns.tolist():\n",
    "    if col != 'building_id':\n",
    "        if df_train[col].dtype == 'object':\n",
    "            sns.countplot(y=col,data=df_train)\n",
    "            plt.show()\n",
    "        else:\n",
    "            plt.xlabel(col)\n",
    "            plt.hist(x=col,data=df_train)\n",
    "            plt.show()"
   ]
  },
  {
   "cell_type": "code",
   "execution_count": 6,
   "metadata": {},
   "outputs": [],
   "source": [
    "features_to_encode = [\"area_assesed\",\"foundation_type\", \"land_surface_condition\",\"roof_type\",\n",
    "                      \"ground_floor_type\",\"other_floor_type\",\"position\",\"plan_configuration\",\"condition_post_eq\"]\n",
    "df_train = pd.get_dummies(df_train, columns=features_to_encode)\n",
    "df_test  = pd.get_dummies(df_test, columns=features_to_encode)"
   ]
  },
  {
   "cell_type": "code",
   "execution_count": 7,
   "metadata": {},
   "outputs": [],
   "source": [
    "df_train.drop(columns=['condition_post_eq_Covered by landslide'],inplace=True,axis=1)\n",
    "df_test.drop(columns=['condition_post_eq_Covered by landslide'],inplace=True,axis=1)"
   ]
  },
  {
   "cell_type": "code",
   "execution_count": 8,
   "metadata": {},
   "outputs": [],
   "source": [
    "from sklearn.preprocessing import LabelEncoder\n",
    "\n",
    "target = df_train.damage_grade\n",
    "le = LabelEncoder().fit(target)\n",
    "\n",
    "Y = le.transform(target)"
   ]
  },
  {
   "cell_type": "code",
   "execution_count": 10,
   "metadata": {},
   "outputs": [],
   "source": [
    "X = df_train.drop(columns=['building_id','damage_grade'],axis=1)"
   ]
  },
  {
   "cell_type": "code",
   "execution_count": null,
   "metadata": {},
   "outputs": [],
   "source": [
    "X_train,X_test,Y_train,Y_test = train_test_split(X,Y,test_size=0.2,random_state=42)"
   ]
  },
  {
   "cell_type": "code",
   "execution_count": null,
   "metadata": {},
   "outputs": [],
   "source": [
    "rf = RandomForestClassifier().fit(X_train,Y_train)"
   ]
  },
  {
   "cell_type": "code",
   "execution_count": null,
   "metadata": {},
   "outputs": [],
   "source": [
    "f1_score(Y_train,rf.predict(X_train),average='weighted')"
   ]
  },
  {
   "cell_type": "code",
   "execution_count": null,
   "metadata": {},
   "outputs": [],
   "source": [
    "preds = rf.predict(X_test)"
   ]
  },
  {
   "cell_type": "code",
   "execution_count": null,
   "metadata": {},
   "outputs": [],
   "source": [
    "f1_score(Y_test,preds,average='weighted')"
   ]
  },
  {
   "cell_type": "code",
   "execution_count": 11,
   "metadata": {},
   "outputs": [
    {
     "name": "stderr",
     "output_type": "stream",
     "text": [
      "/home/mukesh/.local/lib/python3.6/site-packages/imblearn/utils/deprecation.py:50: DeprecationWarning: 'k' is deprecated from 0.2 and will be removed in 0.4. Use 'k_neighbors' instead.\n",
      "  category=DeprecationWarning)\n",
      "/home/mukesh/.local/lib/python3.6/site-packages/imblearn/utils/deprecation.py:50: DeprecationWarning: 'm' is deprecated from 0.2 and will be removed in 0.4. Use 'm_neighbors' instead.\n",
      "  category=DeprecationWarning)\n"
     ]
    }
   ],
   "source": [
    "from imblearn.combine import SMOTETomek\n",
    "\n",
    "smotet = SMOTETomek(random_state=42,m=10)\n",
    "X, Y = smotet.fit_sample(X,Y)\n",
    "X= pd.DataFrame(X)\n",
    "y=pd.DataFrame(Y)"
   ]
  },
  {
   "cell_type": "code",
   "execution_count": 12,
   "metadata": {},
   "outputs": [],
   "source": [
    "X_train,X_test,Y_train,Y_test = train_test_split(X,Y,test_size=0.2,random_state=42)"
   ]
  },
  {
   "cell_type": "code",
   "execution_count": 15,
   "metadata": {},
   "outputs": [],
   "source": [
    "rfc = RandomForestClassifier(n_estimators=100).fit(X_train,Y_train)"
   ]
  },
  {
   "cell_type": "code",
   "execution_count": 16,
   "metadata": {},
   "outputs": [
    {
     "data": {
      "text/plain": [
       "0.9877230872383114"
      ]
     },
     "execution_count": 16,
     "metadata": {},
     "output_type": "execute_result"
    }
   ],
   "source": [
    "from sklearn.metrics import classification_report,f1_score\n",
    "f1_score(Y_train,rfc.predict(X_train),average='weighted')"
   ]
  },
  {
   "cell_type": "code",
   "execution_count": 17,
   "metadata": {},
   "outputs": [],
   "source": [
    "preds = rfc.predict(X_test)"
   ]
  },
  {
   "cell_type": "code",
   "execution_count": 18,
   "metadata": {},
   "outputs": [
    {
     "data": {
      "text/plain": [
       "0.8095201454106639"
      ]
     },
     "execution_count": 18,
     "metadata": {},
     "output_type": "execute_result"
    }
   ],
   "source": [
    "f1_score(Y_test,preds,average='weighted')"
   ]
  },
  {
   "cell_type": "code",
   "execution_count": null,
   "metadata": {},
   "outputs": [],
   "source": [
    "print(classification_report(Y_test,preds))"
   ]
  },
  {
   "cell_type": "code",
   "execution_count": null,
   "metadata": {},
   "outputs": [],
   "source": [
    "df_test.head()"
   ]
  },
  {
   "cell_type": "code",
   "execution_count": null,
   "metadata": {},
   "outputs": [],
   "source": [
    "df_train.head()"
   ]
  },
  {
   "cell_type": "code",
   "execution_count": 19,
   "metadata": {},
   "outputs": [],
   "source": [
    "XX_test = df_test.drop(columns=['building_id'],axis=1)"
   ]
  },
  {
   "cell_type": "code",
   "execution_count": 20,
   "metadata": {},
   "outputs": [],
   "source": [
    "test_preds = rfc.predict(XX_test)"
   ]
  },
  {
   "cell_type": "code",
   "execution_count": 21,
   "metadata": {},
   "outputs": [],
   "source": [
    "submission = pd.DataFrame({\n",
    "    'building_id' : df_test['building_id'],\n",
    "    'damage_grade' : test_preds\n",
    "})"
   ]
  },
  {
   "cell_type": "code",
   "execution_count": 22,
   "metadata": {},
   "outputs": [],
   "source": [
    "submission.damage_grade = submission.damage_grade.apply(lambda x : \"Grade \" + str(x+1) )"
   ]
  },
  {
   "cell_type": "code",
   "execution_count": 23,
   "metadata": {},
   "outputs": [],
   "source": [
    "submission.to_csv('final_submission.csv',index=False)"
   ]
  },
  {
   "cell_type": "code",
   "execution_count": 24,
   "metadata": {},
   "outputs": [
    {
     "data": {
      "text/html": [
       "<div>\n",
       "<style scoped>\n",
       "    .dataframe tbody tr th:only-of-type {\n",
       "        vertical-align: middle;\n",
       "    }\n",
       "\n",
       "    .dataframe tbody tr th {\n",
       "        vertical-align: top;\n",
       "    }\n",
       "\n",
       "    .dataframe thead th {\n",
       "        text-align: right;\n",
       "    }\n",
       "</style>\n",
       "<table border=\"1\" class=\"dataframe\">\n",
       "  <thead>\n",
       "    <tr style=\"text-align: right;\">\n",
       "      <th></th>\n",
       "      <th>building_id</th>\n",
       "      <th>damage_grade</th>\n",
       "    </tr>\n",
       "  </thead>\n",
       "  <tbody>\n",
       "    <tr>\n",
       "      <th>0</th>\n",
       "      <td>a3380c4f75</td>\n",
       "      <td>Grade 3</td>\n",
       "    </tr>\n",
       "    <tr>\n",
       "      <th>1</th>\n",
       "      <td>a338a4e653</td>\n",
       "      <td>Grade 5</td>\n",
       "    </tr>\n",
       "    <tr>\n",
       "      <th>2</th>\n",
       "      <td>a338a4e6b7</td>\n",
       "      <td>Grade 5</td>\n",
       "    </tr>\n",
       "    <tr>\n",
       "      <th>3</th>\n",
       "      <td>a33a6eaa3a</td>\n",
       "      <td>Grade 3</td>\n",
       "    </tr>\n",
       "    <tr>\n",
       "      <th>4</th>\n",
       "      <td>a33b073ff6</td>\n",
       "      <td>Grade 5</td>\n",
       "    </tr>\n",
       "  </tbody>\n",
       "</table>\n",
       "</div>"
      ],
      "text/plain": [
       "  building_id damage_grade\n",
       "0  a3380c4f75      Grade 3\n",
       "1  a338a4e653      Grade 5\n",
       "2  a338a4e6b7      Grade 5\n",
       "3  a33a6eaa3a      Grade 3\n",
       "4  a33b073ff6      Grade 5"
      ]
     },
     "execution_count": 24,
     "metadata": {},
     "output_type": "execute_result"
    }
   ],
   "source": [
    "submission.head()"
   ]
  },
  {
   "cell_type": "code",
   "execution_count": null,
   "metadata": {},
   "outputs": [],
   "source": []
  }
 ],
 "metadata": {
  "kernelspec": {
   "display_name": "Python 3",
   "language": "python",
   "name": "python3"
  },
  "language_info": {
   "codemirror_mode": {
    "name": "ipython",
    "version": 3
   },
   "file_extension": ".py",
   "mimetype": "text/x-python",
   "name": "python",
   "nbconvert_exporter": "python",
   "pygments_lexer": "ipython3",
   "version": "3.6.5"
  }
 },
 "nbformat": 4,
 "nbformat_minor": 2
}
